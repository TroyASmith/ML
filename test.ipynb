{
 "cells": [
  {
   "cell_type": "code",
   "execution_count": 1,
   "metadata": {},
   "outputs": [
    {
     "name": "stdout",
     "output_type": "stream",
     "text": [
      "ControlUnits Pressure \n",
      "      \n",
      "ControlUnits Temperature \n",
      "      \n",
      "HMIUnits Pressure \n",
      "      \n",
      "HMIUnits Temperature \n",
      "      \n",
      "{'header': {'DeviceName': None, 'DeviceFamily': 'Century', 'DeviceModel': 'Century 16 and 20', 'DeviceSN': '031700708', 'ProgramPartNo': None, 'ProgramRevision': None, 'ProgramRevDate': None, 'ProgramRevTime': None, 'CustomerName': None, 'CycleName': None, 'CycleTypeName': 'PREVAC', 'CycleCount': '8648', 'LoadNumber': '051502', 'Language': None, 'DecimalMark': None, 'DST': None, 'ControlUnits': '\\n      ', 'HMIUnits': '\\n      '}}\n"
     ]
    }
   ],
   "source": [
    "from cycle_data import *\n",
    "import time\n",
    "\n",
    "account = list_all_accounts()\n",
    "\n",
    "for x in account:\n",
    "    a = x['ThingName']\n",
    "    if 'UCP' in a:\n",
    "        break\n",
    "\n",
    "endtime = time.time()*1000\n",
    "starttime = endtime - 86400000*6\n",
    "cycles = list_cycle_files(a,starttime,endtime)\n",
    "file = read_cycle_file_as_xml(cycles[0]['downloadLink'])\n",
    "cycle_machine_details(file)"
   ]
  }
 ],
 "metadata": {
  "interpreter": {
   "hash": "91b590e6ff610448c845740b68ffd0158172a6413544044522774154f678f7aa"
  },
  "kernelspec": {
   "display_name": "Python 3.10.1 64-bit",
   "language": "python",
   "name": "python3"
  },
  "language_info": {
   "codemirror_mode": {
    "name": "ipython",
    "version": 3
   },
   "file_extension": ".py",
   "mimetype": "text/x-python",
   "name": "python",
   "nbconvert_exporter": "python",
   "pygments_lexer": "ipython3",
   "version": "3.10.1"
  },
  "orig_nbformat": 4
 },
 "nbformat": 4,
 "nbformat_minor": 2
}
